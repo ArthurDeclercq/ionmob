{
 "cells": [
  {
   "cell_type": "markdown",
   "id": "1f7fa536",
   "metadata": {},
   "source": [
    "### Train a Custom Deep Model for CCS Prediction\n",
    "Say you come up with your very own idea for a deep CCS predictor architecture and want to build on top of ionmob.\n",
    "It is recomended that you have a NVIDIA CUDA enabled GPU with cuDNN bianries available in your working environment,\n",
    "otherwise training may take quite some time.\n",
    "We  will assume that a dataset for training was already generated, including all necesarry steps for preprocessing.\n",
    "For this demonstration, we can use ionmob datasets. \n",
    "Let's use sets from different sources for training, validation and test.\n",
    "This way, we make sure that we do not overestimate model performace.\n",
    "We will start our model implementation by fitting a tokenizer."
   ]
  },
  {
   "cell_type": "code",
   "execution_count": 3,
   "id": "41ad9251",
   "metadata": {},
   "outputs": [
    {
     "name": "stdout",
     "output_type": "stream",
     "text": [
      "{'L': 1, 'E': 2, 'S': 3, 'A': 4, 'V': 5, 'D': 6, 'G': 7, '<END>': 8, 'P': 9, '<START>': 10, 'T': 11, 'I': 12, 'Q': 13, 'K': 14, 'N': 15, 'R': 16, 'F': 17, 'H': 18, 'Y': 19, 'M-<OX>': 20, 'C-<CM>': 21, 'M': 22, 'W': 23, 'S-<PH>': 24, '<START>-<AC>': 25, 'T-<PH>': 26, 'Y-<PH>': 27, 'K-<AC>': 28, 'C-<CY>': 29, 'C': 30}\n"
     ]
    }
   ],
   "source": [
    "import pandas as pd\n",
    "import numpy as np\n",
    "import tensorflow as tf\n",
    "import os\n",
    "from datetime import datetime\n",
    "\n",
    "import os\n",
    "# suppress CUDA logs\n",
    "os.environ['TF_CPP_MIN_LOG_LEVEL'] = '3' \n",
    "\n",
    "gpus = tf.config.experimental.list_physical_devices('GPU')\n",
    "\n",
    "tf.config.experimental.set_virtual_device_configuration(gpus[0], \n",
    "                                        [tf.config.experimental.VirtualDeviceConfiguration(memory_limit=2048)])\n",
    "\n",
    "from matplotlib import pyplot as plt\n",
    "from ionmob.alignment.experiment import Experiment\n",
    "\n",
    "from ionmob.models.deep_models import ProjectToInitialSqrtCCS, DeepRecurrentModel\n",
    "from ionmob.preprocess.data import get_tf_dataset, partition_tf_dataset, to_tf_dataset\n",
    "from ionmob.preprocess.helpers import get_sqrt_slopes_and_intercepts, sequence_to_tokens, fit_tokenizer\n",
    "from ionmob.preprocess.helpers import tokenizer_to_json, tokenizer_from_json\n",
    "from ionmob.preprocess.tokenization import get_index_dict, get_occurring_kmers, create_count_vectors\n",
    "\n",
    "data_train = pd.read_parquet('../data/Meier.parquet')\n",
    "data_valid = pd.read_parquet('../data/Tenzer_unique.parquet')\n",
    "data_phos = pd.read_parquet('../data/Tenzer-phospho-train.parquet')\n",
    "data_test = pd.read_parquet('../data/Chang_unique.parquet')\n",
    "\n",
    "data_train = pd.concat([data_train, data_phos])\n",
    "\n",
    "tokenizer = tokenizer_from_json('../pretrained-models/tokenizers/tokenizer.json')\n",
    "\n",
    "print(tokenizer.word_index)"
   ]
  },
  {
   "cell_type": "markdown",
   "id": "9c03837d",
   "metadata": {},
   "source": [
    "The tokenizer now knows 30 tokens, 20 AAs, \\<START>, \\<STOP> and 8 PTMs. Next, we generate tensorflow datasets."
   ]
  },
  {
   "cell_type": "code",
   "execution_count": 4,
   "id": "209c1f9f",
   "metadata": {},
   "outputs": [],
   "source": [
    "tf_train = to_tf_dataset(data_train.mz, data_train.charge, [list(x) for x in data_train['sequence-tokenized']], \n",
    "                          data_train.ccs, tokenizer, batch=False).shuffle(int(1e7)).batch(1024)\n",
    "\n",
    "tf_valid = to_tf_dataset(data_valid.mz, data_valid.charge, [list(x) for x in data_valid['sequence-tokenized']], \n",
    "                          data_valid.ccs, tokenizer, batch=False).shuffle(int(1e7)).batch(1024)\n",
    "\n",
    "tf_test = to_tf_dataset(data_test.mz, data_test.charge, [list(x) for x in data_test['sequence-tokenized']], \n",
    "                          data_test.ccs, tokenizer, batch=False).batch(1024)"
   ]
  },
  {
   "cell_type": "markdown",
   "id": "8e25fb29",
   "metadata": {},
   "source": [
    "It has proved to be a very efficient way to build on top of a simple sqrt-fit to help a deep predictor reach high accuracy  as well as fast convergence. \n",
    "Ionmob implements its own layer that is able to project all charge states at the same time, making it very convenient to add it to your own predictor.\n",
    "It is done in two steps: first, fit slopes and intercepts for the initial prediction separately. \n",
    "Second, use the gained values to initialize a initial projection layer.\n",
    "Ionmob makes use of charge state one-hot encoding to gate the prediction based on a given charge state.\n",
    "If you are interested in the intrinsics, have a look at the implementation."
   ]
  },
  {
   "cell_type": "code",
   "execution_count": 5,
   "id": "c46ae9fd",
   "metadata": {},
   "outputs": [
    {
     "data": {
      "image/png": "[encoded data removed]",
      "text/plain": [
       "<Figure size 960x480 with 1 Axes>"
      ]
     },
     "metadata": {
      "needs_background": "light"
     },
     "output_type": "display_data"
    }
   ],
   "source": [
    "slopes, intercepts = get_sqrt_slopes_and_intercepts(data_train.mz, data_train.charge, data_train.ccs)\n",
    "initial_layer = ProjectToInitialSqrtCCS(slopes, intercepts)\n",
    "\n",
    "# just make sure that everything worked by testing the projection\n",
    "initial_ccs = initial_layer([np.expand_dims(data_train.mz, 1), tf.one_hot(data_train.charge - 1, 4)]).numpy()\n",
    "\n",
    "# visualize to make sure all went as intended\n",
    "plt.figure(figsize=(8, 4), dpi=120)\n",
    "plt.scatter(data_train.mz, initial_ccs, s=10, label='sqrt projection')\n",
    "plt.xlabel('Mz')\n",
    "plt.ylabel('CCS')\n",
    "plt.legend()\n",
    "plt.show()"
   ]
  },
  {
   "cell_type": "markdown",
   "id": "09fe2060",
   "metadata": {},
   "source": [
    "The most flexible way to implement a new predictor is to subclass a tensorflow module or keras model. \n",
    "We will do the latter, as it is the prominent way to generate new predictors for ionmob. \n",
    "Let's set up a predictor that uses 1-D convolutions to extract additional information from the sequence of an ion. \n",
    "All layers that should be part of the model are defined in the constructor, the execution is defined by specifying the call method."
   ]
  },
  {
   "cell_type": "code",
   "execution_count": 6,
   "id": "78768c94",
   "metadata": {},
   "outputs": [],
   "source": [
    "class ConvolutionalCCSPredictor(tf.keras.models.Model):\n",
    "    \n",
    "    def __init__(self, slopes, intercepts, num_tokens=44, seq_len=50):\n",
    "        super(ConvolutionalCCSPredictor, self).__init__()\n",
    "        # the inital sqrt projection\n",
    "        self.initial = ProjectToInitialSqrtCCS(slopes, intercepts)\n",
    "        \n",
    "        # the deep sequence processor\n",
    "        self.embedding = tf.keras.layers.Embedding(input_dim=num_tokens + 1, output_dim=128, input_length=seq_len)\n",
    "        self.conv1d = tf.keras.layers.Conv1D(filters=32, kernel_size=8, activation='relu')\n",
    "        self.mp1d = tf.keras.layers.MaxPool1D(pool_size=2)\n",
    "        self.conv1d_2 = tf.keras.layers.Conv1D(filters=64, kernel_size=8, activation='relu')\n",
    "        \n",
    "        # the deep regression tail\n",
    "        self.dense = tf.keras.layers.Dense(128, activation='relu')\n",
    "        self.dropout = tf.keras.layers.Dropout(0.5)\n",
    "        self.dense_2 = tf.keras.layers.Dense(64, activation='relu')\n",
    "        self.out = tf.keras.layers.Dense(1, activation=None)\n",
    "\n",
    "    def call(self, inputs):\n",
    "        # read inputs\n",
    "        mz, charge, sequence = inputs\n",
    "        \n",
    "        # calculate sequence part\n",
    "        deep = self.conv1d_2(self.mp1d(self.conv1d(self.embedding(sequence))))\n",
    "        \n",
    "        # concat with mz and charge\n",
    "        concat = tf.keras.layers.Concatenate()([tf.keras.layers.Flatten()(deep), tf.sqrt(mz), charge])\n",
    "        \n",
    "        # deep regression\n",
    "        dense = self.dense_2(self.dropout(self.dense(concat)))\n",
    "        \n",
    "        # output is sqrt-fit + deep-regression\n",
    "        return self.initial([mz, charge]) + self.out(dense)"
   ]
  },
  {
   "cell_type": "markdown",
   "id": "b2459a2f",
   "metadata": {},
   "source": [
    "Callbacks are a convenient way to further automate your training procedure. \n",
    "We will use two different callbacks that observe model performance on validation data.\n",
    "The first one is a learning rate reducer: Should the loss not go down after three consecutive epochs on the validation set, the reducer is going to reduce the learning rate by an order of magnitude. f there is still no improvement on performance, the early stopper will stop the training procedure after another 2 epochs."
   ]
  },
  {
   "cell_type": "code",
   "execution_count": 7,
   "id": "c31893d2",
   "metadata": {},
   "outputs": [],
   "source": [
    "early_stopper = tf.keras.callbacks.EarlyStopping(\n",
    "    monitor='val_loss',\n",
    "    patience=5\n",
    ")\n",
    "\n",
    "reduce_lr = tf.keras.callbacks.ReduceLROnPlateau(\n",
    "    monitor='val_loss', \n",
    "    factor=1e-1,\n",
    "    patience=2,\n",
    "    monde='auto',\n",
    "    min_delta=1e-5,\n",
    "    cooldown=0,\n",
    "    min_lr=1e-7\n",
    ")\n",
    "\n",
    "cbs = [early_stopper, reduce_lr]"
   ]
  },
  {
   "cell_type": "markdown",
   "id": "7214ddae",
   "metadata": {},
   "source": [
    "We are now ready to instanciate our predictor, build it and then compile it with a desired objective function and optimizer. \n",
    "The models' summary tells us that it has a total of 178,785 trainable parameters."
   ]
  },
  {
   "cell_type": "code",
   "execution_count": 8,
   "id": "305cabb8",
   "metadata": {},
   "outputs": [
    {
     "name": "stdout",
     "output_type": "stream",
     "text": [
      "Model: \"convolutional_ccs_predictor\"\n",
      "_________________________________________________________________\n",
      " Layer (type)                Output Shape              Param #   \n",
      "=================================================================\n",
      " project_to_initial_sqrt_ccs  multiple                 0         \n",
      " _1 (ProjectToInitialSqrtCCS                                     \n",
      " )                                                               \n",
      "                                                                 \n",
      " embedding (Embedding)       multiple                  5760      \n",
      "                                                                 \n",
      " conv1d (Conv1D)             multiple                  32800     \n",
      "                                                                 \n",
      " max_pooling1d (MaxPooling1D  multiple                 0         \n",
      " )                                                               \n",
      "                                                                 \n",
      " conv1d_1 (Conv1D)           multiple                  16448     \n",
      "                                                                 \n",
      " dense (Dense)               multiple                  115456    \n",
      "                                                                 \n",
      " dropout (Dropout)           multiple                  0         \n",
      "                                                                 \n",
      " dense_1 (Dense)             multiple                  8256      \n",
      "                                                                 \n",
      " dense_2 (Dense)             multiple                  65        \n",
      "                                                                 \n",
      "=================================================================\n",
      "Total params: 178,785\n",
      "Trainable params: 178,785\n",
      "Non-trainable params: 0\n",
      "_________________________________________________________________\n",
      "None\n"
     ]
    }
   ],
   "source": [
    "# create a recurrent predictor\n",
    "model = ConvolutionalCCSPredictor(slopes, intercepts)\n",
    "\n",
    "# set input shapes: mz, charge_one_hot, max_seq_len, helix_score, gravy_score\n",
    "model.build([(None, 1), (None, 4), (None, 50)])\n",
    "\n",
    "model.compile(loss=tf.keras.losses.MeanAbsoluteError(),\n",
    "              optimizer=tf.keras.optimizers.Adam(1e-2), metrics=['mae'])\n",
    "\n",
    "print(model.summary())"
   ]
  },
  {
   "cell_type": "code",
   "execution_count": 9,
   "id": "69584692",
   "metadata": {},
   "outputs": [
    {
     "name": "stdout",
     "output_type": "stream",
     "text": [
      "Epoch 1/50\n",
      "763/763 [==============================] - 14s 13ms/step - loss: 11.4396 - mae: 11.4396 - val_loss: 11.3240 - val_mae: 11.3240 - lr: 0.0100\n",
      "Epoch 2/50\n",
      "763/763 [==============================] - 11s 12ms/step - loss: 9.9478 - mae: 9.9478 - val_loss: 11.0172 - val_mae: 11.0172 - lr: 0.0100\n",
      "Epoch 3/50\n",
      "763/763 [==============================] - 11s 12ms/step - loss: 9.6542 - mae: 9.6542 - val_loss: 11.2008 - val_mae: 11.2008 - lr: 0.0100\n",
      "Epoch 4/50\n",
      "763/763 [==============================] - 11s 12ms/step - loss: 9.4918 - mae: 9.4918 - val_loss: 11.0447 - val_mae: 11.0447 - lr: 0.0100\n",
      "Epoch 5/50\n",
      "763/763 [==============================] - 11s 12ms/step - loss: 8.9704 - mae: 8.9704 - val_loss: 10.8129 - val_mae: 10.8129 - lr: 1.0000e-03\n",
      "Epoch 6/50\n",
      "763/763 [==============================] - 11s 12ms/step - loss: 8.7920 - mae: 8.7920 - val_loss: 10.7952 - val_mae: 10.7952 - lr: 1.0000e-03\n",
      "Epoch 7/50\n",
      "763/763 [==============================] - 11s 12ms/step - loss: 8.7164 - mae: 8.7164 - val_loss: 10.7979 - val_mae: 10.7979 - lr: 1.0000e-03\n",
      "Epoch 8/50\n",
      "763/763 [==============================] - 11s 12ms/step - loss: 8.6486 - mae: 8.6486 - val_loss: 10.7801 - val_mae: 10.7801 - lr: 1.0000e-03\n",
      "Epoch 9/50\n",
      "763/763 [==============================] - 10s 12ms/step - loss: 8.5938 - mae: 8.5938 - val_loss: 10.8155 - val_mae: 10.8155 - lr: 1.0000e-03\n",
      "Epoch 10/50\n",
      "763/763 [==============================] - 11s 12ms/step - loss: 8.5561 - mae: 8.5561 - val_loss: 10.7917 - val_mae: 10.7917 - lr: 1.0000e-03\n",
      "Epoch 11/50\n",
      "763/763 [==============================] - 10s 12ms/step - loss: 8.4679 - mae: 8.4679 - val_loss: 10.7874 - val_mae: 10.7874 - lr: 1.0000e-04\n",
      "Epoch 12/50\n",
      "763/763 [==============================] - 10s 11ms/step - loss: 8.4377 - mae: 8.4377 - val_loss: 10.7911 - val_mae: 10.7911 - lr: 1.0000e-04\n",
      "Epoch 13/50\n",
      "763/763 [==============================] - 10s 11ms/step - loss: 8.4364 - mae: 8.4364 - val_loss: 10.7809 - val_mae: 10.7809 - lr: 1.0000e-05\n"
     ]
    },
    {
     "data": {
      "image/png": "[encoded data removed]",
      "text/plain": [
       "<Figure size 960x480 with 1 Axes>"
      ]
     },
     "metadata": {
      "needs_background": "light"
     },
     "output_type": "display_data"
    }
   ],
   "source": [
    "history = model.fit(tf_train, validation_data=tf_valid, \n",
    "                    epochs=50, verbose=True, callbacks=cbs)\n",
    "\n",
    "# plot training and validation loss \n",
    "plt.figure(figsize=(8, 4), dpi=120)\n",
    "plt.plot(history.history['loss'], label='training')\n",
    "plt.plot(history.history['val_loss'], label='validation')\n",
    "plt.xlabel('epoch')\n",
    "plt.ylabel('loss')\n",
    "plt.legend()\n",
    "plt.show()"
   ]
  },
  {
   "cell_type": "code",
   "execution_count": 10,
   "id": "10066e57",
   "metadata": {},
   "outputs": [
    {
     "name": "stdout",
     "output_type": "stream",
     "text": [
      "4/4 [==============================] - 0s 19ms/step - loss: 11.3624 - mae: 11.3624\n"
     ]
    },
    {
     "data": {
      "text/plain": [
       "[11.362442970275879, 11.362442970275879]"
      ]
     },
     "execution_count": 10,
     "metadata": {},
     "output_type": "execute_result"
    }
   ],
   "source": [
    "model.evaluate(tf_test)"
   ]
  }
 ],
 "metadata": {
  "@webio": {
   "lastCommId": null,
   "lastKernelId": null
  },
  "kernelspec": {
   "display_name": "Python 3 (ipykernel)",
   "language": "python",
   "name": "python3"
  },
  "language_info": {
   "codemirror_mode": {
    "name": "ipython",
    "version": 3
   },
   "file_extension": ".py",
   "mimetype": "text/x-python",
   "name": "python",
   "nbconvert_exporter": "python",
   "pygments_lexer": "ipython3",
   "version": "3.9.14"
  }
 },
 "nbformat": 4,
 "nbformat_minor": 5
}
